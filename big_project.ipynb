{
 "cells": [
  {
   "cell_type": "code",
   "execution_count": null,
   "metadata": {},
   "outputs": [],
   "source": [
    "import pandas as pd\n",
    "from sklearn.metrics.pairwise import cosine_similarity\n",
    "from sklearn.feature_extraction.text import CountVectorizer\n",
    "from flask import Flask, request, jsonify"
   ]
  },
  {
   "cell_type": "code",
   "execution_count": null,
   "metadata": {},
   "outputs": [],
   "source": [
    "\n",
    "\n",
    "\n",
    "import pandas as pd\n",
    "\n",
    "# Load datasets\n",
    "try:\n",
    "    books = pd.read_csv(r\"C:\\Users\\abhir\\Desktop\\Big_data_project\\Books.csv\", encoding=\"ISO-8859-1\")\n",
    "    ratings = pd.read_csv(r\"C:\\Users\\abhir\\Desktop\\Big_data_project\\Ratings.csv\", encoding=\"ISO-8859-1\")\n",
    "except Exception as e:\n",
    "    print(\"Error loading files:\", e)\n",
    "    exit()\n",
    "\n",
    "# Display the first few rows of each dataset to verify\n",
    "print(\"Books Dataset:\")\n",
    "print(books.head())\n",
    "\n",
    "print(\"Ratings Dataset:\")\n",
    "print(ratings.head())\n",
    "\n",
    "# Merge books and ratings datasets on the 'ISBN' column\n",
    "merged_data = pd.merge(ratings, books, on='ISBN')\n",
    "print(\"\\nMerged Dataset:\")\n",
    "print(merged_data.head())\n",
    "\n",
    "# Filter to only include users who have rated at least 50 books\n",
    "user_rating_count = merged_data['User-ID'].value_counts()\n",
    "active_users = user_rating_count[user_rating_count >= 50].index\n",
    "filtered_data = merged_data[merged_data['User-ID'].isin(active_users)]\n",
    "\n",
    "# Create a pivot table for user-item matrix\n",
    "user_item_matrix = filtered_data.pivot_table(index='User-ID', columns='Book-Title', values='Book-Rating')\n",
    "\n",
    "# Fill NaN values with 0 (optional)\n",
    "user_item_matrix.fillna(0, inplace=True)\n",
    "\n",
    "# Display the user-item matrix\n",
    "print(\"\\nUser-Item Matrix:\")\n",
    "print(user_item_matrix)\n",
    "\n",
    "# Compute similarity between books using cosine similarity\n",
    "from sklearn.metrics.pairwise import cosine_similarity\n",
    "\n",
    "book_similarity = cosine_similarity(user_item_matrix.T)\n",
    "book_similarity_df = pd.DataFrame(book_similarity, index=user_item_matrix.columns, columns=user_item_matrix.columns)\n",
    "\n",
    "# Function to get book recommendations\n",
    "def get_recommendations(book_title, n_recommendations=5):\n",
    "    if book_title not in book_similarity_df:\n",
    "        print(\"Book not found in the dataset.\")\n",
    "        return []\n",
    "    similar_books = book_similarity_df[book_title].sort_values(ascending=False).iloc[1:n_recommendations+1]\n",
    "    return similar_books.index.tolist()\n",
    "\n",
    "# Example: Get recommendations for a specific book\n",
    "book_to_recommend = \"The Catcher in the Rye\"\n",
    "recommendations = get_recommendations(book_to_recommend)\n",
    "\n",
    "if recommendations:\n",
    "    print(f\"\\nBooks similar to '{book_to_recommend}':\")\n",
    "    for idx, rec_book in enumerate(recommendations, start=1):\n",
    "        print(f\"{idx}. {rec_book}\")\n",
    "\n"
   ]
  }
 ],
 "metadata": {
  "kernelspec": {
   "display_name": "Python 3",
   "language": "python",
   "name": "python3"
  },
  "language_info": {
   "codemirror_mode": {
    "name": "ipython",
    "version": 3
   },
   "file_extension": ".py",
   "mimetype": "text/x-python",
   "name": "python",
   "nbconvert_exporter": "python",
   "pygments_lexer": "ipython3",
   "version": "3.8.10"
  }
 },
 "nbformat": 4,
 "nbformat_minor": 2
}
